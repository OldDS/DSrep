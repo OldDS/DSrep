{
 "cells": [
  {
   "cell_type": "markdown",
   "id": "cb8a1d74-0a17-493d-98bf-38da16042a08",
   "metadata": {},
   "source": [
    "МОДУЛЬ_1_ЧАСТЬ_1\n",
    "\n",
    "#Easy\n",
    "Вывести в консоль (через фунцию print) значение выражения:\n",
    "    (5+7*5/8)/3**5\n"
   ]
  },
  {
   "cell_type": "code",
   "execution_count": 2,
   "id": "32c421b7-6944-4acf-8e1c-5e79510628c8",
   "metadata": {},
   "outputs": [
    {
     "name": "stdout",
     "output_type": "stream",
     "text": [
      "0.038580246913580245\n"
     ]
    }
   ],
   "source": [
    "value=(7*5)/8\n",
    "value=value+5\n",
    "value=(value)/3**5\n",
    "print(value)"
   ]
  },
  {
   "cell_type": "markdown",
   "id": "093f89a2-2b03-4433-ba92-4bf40278905c",
   "metadata": {},
   "source": [
    "#Normal\n",
    "длинна Московской кольцевой а.д.-109 км.Байкер вася стартует с нуливого км. МКАД и едет со скоростью v километров в час.\n",
    "На какой отметке он остановится через t часов?Значения скорости и времени считаются целыми числами."
   ]
  },
  {
   "cell_type": "code",
   "execution_count": 3,
   "id": "d5067dc5-3b30-4024-9b05-b3868749db12",
   "metadata": {},
   "outputs": [
    {
     "name": "stdin",
     "output_type": "stream",
     "text": [
      " 12\n",
      " 12\n"
     ]
    },
    {
     "name": "stdout",
     "output_type": "stream",
     "text": [
      "35\n"
     ]
    }
   ],
   "source": [
    "v=int(input())\n",
    "t=int(input())\n",
    "print(v*t%109)\n"
   ]
  },
  {
   "cell_type": "markdown",
   "id": "1396a58f-5834-466d-bcba-f4c94e8a7cd1",
   "metadata": {},
   "source": [
    "#Hard\n",
    "На вход подаются 2 числа.Числа могут быть как целые ,так и вещественные.Сравните их значения и найдите наибольшее.\n",
    "Помните,что результатом сравнения является True или False(тип bool).При этом True эквивалентно 1,а False 0 при умножении."
   ]
  },
  {
   "cell_type": "code",
   "execution_count": null,
   "id": "d1f983b8-7aad-49d8-9afd-ad2f8594f4ec",
   "metadata": {},
   "outputs": [],
   "source": [
    "a=float(input())\n",
    "b=float(input())\n",
    "if a<b:\n",
    "    print(b)\n",
    "else:\n",
    "    print(a)"
   ]
  },
  {
   "cell_type": "markdown",
   "id": "40043052-1f10-4b93-a556-8d72ac10af81",
   "metadata": {},
   "source": [
    "МОДУЛЬ_1_ЧАСТЬ_2\n",
    "#Easy\n",
    "Даны три целых числа.Определите,сколько среди них совпадающих.\n",
    "Программа должна вывести одно из чисел:3(если все совподают),2(если два совподают),0(если все числа различны).\n"
   ]
  },
  {
   "cell_type": "code",
   "execution_count": null,
   "id": "dce44bef-9b98-454f-886d-55d28f71228c",
   "metadata": {},
   "outputs": [],
   "source": [
    "a=int(input())\n",
    "b=int(input())\n",
    "c=int(input())\n",
    "if a == b and b == c and a == c:\n",
    "    print(3)\n",
    "elif a == b or b == c or a == c:\n",
    "    print(2)\n",
    "else:\n",
    "    print(0)"
   ]
  },
  {
   "cell_type": "markdown",
   "id": "b3a866db-1c90-49f2-bfe7-30a3e73731d3",
   "metadata": {},
   "source": [
    "#Normal\n",
    "Шахматная ладья ходит по горизонтали или вертикали.\n",
    "даны две различные клетки шахматной доски,определите может ли ладья попасть с первой клетки на вторую одним ходо.\n",
    "Входные данные:\n",
    "Программа получает на вход четыре числа от 1 до 8 каждое,задающие номер столбца и строки\n",
    "сначала для первой клетки потом для второй.\n",
    "Выходные данные:\n",
    "Программа должна вывести yes,если из первой клетки ходом лодьи можно попасть во вторую или no в противном случае."
   ]
  },
  {
   "cell_type": "code",
   "execution_count": null,
   "id": "70b8eb53-e399-43da-9eb8-f5698b69865a",
   "metadata": {},
   "outputs": [],
   "source": [
    "x1=int(input())\n",
    "y1=int(input())\n",
    "x2=int(input())\n",
    "y2=int(input())\n",
    "if x1 in range(1, 9) and y1 in range(1, 9) and x2 in range(1, 9) and y2 in range(1, 9):\n",
    " \n",
    "        if x1==x2 or y1==y2:\n",
    "            print('YES')\n",
    "        else:\n",
    "            print('NO')\n",
    "else:\n",
    "    print('Введенные координаты за пределами доски, повторите ввод')"
   ]
  },
  {
   "cell_type": "markdown",
   "id": "8deffc04-64bb-4fe0-824c-3bf6dcb3e90a",
   "metadata": {},
   "source": [
    "#Hard\n",
    "Пусть пользователь придумывает пароль и вводит его с клавиатуры.\n",
    "Допустимым является пароль,который состоит больше чем из 8 символов и включает в себя как прописные так и заглавные буквы.\n",
    "Используя цикл while дождитесь,пока пользователь введет допустимый пароль."
   ]
  },
  {
   "cell_type": "code",
   "execution_count": null,
   "id": "16505d44-69c1-4421-9848-47f3dc9bd537",
   "metadata": {},
   "outputs": [],
   "source": [
    "#В задаче на проверку пароля в видео неверный код при вводе \"12345678\" пароль проходит проверку,хотя не должен\n",
    "while True:\n",
    "    password=input('password:')\n",
    "    if len(password) < 8:\n",
    "        print(' password < 8')\n",
    "    elif not any(char.isupper() for char in password):\n",
    "        print('the password should have at least one uppercase letter')\n",
    "    elif not any(char.islower() for char in password):\n",
    "        print('the password should have at least one lowercase letter')\n",
    "        \n",
    "    else:\n",
    "        print('correct')\n",
    "        break\n",
    "    "
   ]
  }
 ],
 "metadata": {
  "kernelspec": {
   "display_name": "Python 3 (ipykernel)",
   "language": "python",
   "name": "python3"
  },
  "language_info": {
   "codemirror_mode": {
    "name": "ipython",
    "version": 3
   },
   "file_extension": ".py",
   "mimetype": "text/x-python",
   "name": "python",
   "nbconvert_exporter": "python",
   "pygments_lexer": "ipython3",
   "version": "3.10.9"
  }
 },
 "nbformat": 4,
 "nbformat_minor": 5
}
